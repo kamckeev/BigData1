{
 "cells": [
  {
   "cell_type": "markdown",
   "id": "9e35f151-aa44-413a-927d-cf336fc944f0",
   "metadata": {},
   "source": [
    "# Part 2\n",
    "On the assignment link you’ll find an sqlite database called northwind.sqlite. This database originally comes from https://github.com/jpwhite3/northwind-SQLite3 but has been modified. Imaging that you have been hired by this firm to help them summarize and understand how good their employees are in terms of their sales. You’ll write up a report for the company (so they are your audience when writing). Your report will be in the form of an .html notebook."
   ]
  },
  {
   "cell_type": "markdown",
   "id": "87836a97-6b13-4178-a94e-6fb6af618bd4",
   "metadata": {},
   "source": [
    "You should drill down into things like how they’ve done across years, how they do in different regions, etc. Please make sure there is a narrative throughout the report. The actual way you quantify how the employees are doing is up to you to determine (not every group will investigate the same things). Please note that the employees have different roles so not everyone is entirely focused on sales. You’ll want to study the database tables a bit to get an idea about the things you could investigate:"
   ]
  },
  {
   "cell_type": "markdown",
   "id": "db27191d-03ff-4344-b508-32f0a57c4b40",
   "metadata": {},
   "source": [
    "You should provide summary statistics and graphs with corresponding interpretations for the company - no need to do any modeling, just focus on summarizing employee performance in meaningful ways. You’ll need to combine data. You can do the joins, summaries, etc. through pandas or via SQL. There are a couple of tables that are empty, just ignore those. Make sure your report has clear sections for the company representatives to read!"
   ]
  },
  {
   "cell_type": "code",
   "execution_count": 1,
   "id": "ad2b13d9-8b7a-426c-b572-dbeaad4d1493",
   "metadata": {},
   "outputs": [],
   "source": [
    "#libraries\n",
    "import sqlite3\n",
    "import pandas as pd\n",
    "import numpy as np\n",
    "import matplotlib.pyplot as plt"
   ]
  },
  {
   "cell_type": "code",
   "execution_count": 2,
   "id": "7cbfae37-a537-40c4-b96d-b2268b0f2b19",
   "metadata": {},
   "outputs": [],
   "source": [
    "con = sqlite3.connect(\"northwind.sqlite\")"
   ]
  },
  {
   "cell_type": "code",
   "execution_count": 3,
   "id": "ab8034aa-9fda-4a2a-9129-17add45ee5e8",
   "metadata": {},
   "outputs": [
    {
     "data": {
      "text/html": [
       "<div>\n",
       "<style scoped>\n",
       "    .dataframe tbody tr th:only-of-type {\n",
       "        vertical-align: middle;\n",
       "    }\n",
       "\n",
       "    .dataframe tbody tr th {\n",
       "        vertical-align: top;\n",
       "    }\n",
       "\n",
       "    .dataframe thead th {\n",
       "        text-align: right;\n",
       "    }\n",
       "</style>\n",
       "<table border=\"1\" class=\"dataframe\">\n",
       "  <thead>\n",
       "    <tr style=\"text-align: right;\">\n",
       "      <th></th>\n",
       "      <th>type</th>\n",
       "      <th>name</th>\n",
       "      <th>tbl_name</th>\n",
       "      <th>rootpage</th>\n",
       "      <th>sql</th>\n",
       "    </tr>\n",
       "  </thead>\n",
       "  <tbody>\n",
       "    <tr>\n",
       "      <th>0</th>\n",
       "      <td>table</td>\n",
       "      <td>Categories</td>\n",
       "      <td>Categories</td>\n",
       "      <td>2</td>\n",
       "      <td>CREATE TABLE [Categories]\\n(      [CategoryID]...</td>\n",
       "    </tr>\n",
       "    <tr>\n",
       "      <th>1</th>\n",
       "      <td>table</td>\n",
       "      <td>sqlite_sequence</td>\n",
       "      <td>sqlite_sequence</td>\n",
       "      <td>3</td>\n",
       "      <td>CREATE TABLE sqlite_sequence(name,seq)</td>\n",
       "    </tr>\n",
       "    <tr>\n",
       "      <th>2</th>\n",
       "      <td>table</td>\n",
       "      <td>CustomerCustomerDemo</td>\n",
       "      <td>CustomerCustomerDemo</td>\n",
       "      <td>28</td>\n",
       "      <td>CREATE TABLE [CustomerCustomerDemo](\\n   [Cust...</td>\n",
       "    </tr>\n",
       "    <tr>\n",
       "      <th>3</th>\n",
       "      <td>table</td>\n",
       "      <td>CustomerDemographics</td>\n",
       "      <td>CustomerDemographics</td>\n",
       "      <td>30</td>\n",
       "      <td>CREATE TABLE [CustomerDemographics](\\n   [Cust...</td>\n",
       "    </tr>\n",
       "    <tr>\n",
       "      <th>4</th>\n",
       "      <td>table</td>\n",
       "      <td>Customers</td>\n",
       "      <td>Customers</td>\n",
       "      <td>32</td>\n",
       "      <td>CREATE TABLE [Customers]\\n(      [CustomerID] ...</td>\n",
       "    </tr>\n",
       "    <tr>\n",
       "      <th>5</th>\n",
       "      <td>table</td>\n",
       "      <td>Employees</td>\n",
       "      <td>Employees</td>\n",
       "      <td>38</td>\n",
       "      <td>CREATE TABLE [Employees]\\n(      [EmployeeID] ...</td>\n",
       "    </tr>\n",
       "    <tr>\n",
       "      <th>6</th>\n",
       "      <td>table</td>\n",
       "      <td>EmployeeTerritories</td>\n",
       "      <td>EmployeeTerritories</td>\n",
       "      <td>68</td>\n",
       "      <td>CREATE TABLE [EmployeeTerritories](\\n   [Emplo...</td>\n",
       "    </tr>\n",
       "    <tr>\n",
       "      <th>7</th>\n",
       "      <td>table</td>\n",
       "      <td>Order Details</td>\n",
       "      <td>Order Details</td>\n",
       "      <td>70</td>\n",
       "      <td>CREATE TABLE [Order Details](\\n   [OrderID]INT...</td>\n",
       "    </tr>\n",
       "    <tr>\n",
       "      <th>8</th>\n",
       "      <td>table</td>\n",
       "      <td>Orders</td>\n",
       "      <td>Orders</td>\n",
       "      <td>92</td>\n",
       "      <td>CREATE TABLE [Orders](\\n   [OrderID]INTEGER NO...</td>\n",
       "    </tr>\n",
       "    <tr>\n",
       "      <th>9</th>\n",
       "      <td>table</td>\n",
       "      <td>Products</td>\n",
       "      <td>Products</td>\n",
       "      <td>128</td>\n",
       "      <td>CREATE TABLE [Products](\\n   [ProductID]INTEGE...</td>\n",
       "    </tr>\n",
       "    <tr>\n",
       "      <th>10</th>\n",
       "      <td>table</td>\n",
       "      <td>Regions</td>\n",
       "      <td>Regions</td>\n",
       "      <td>132</td>\n",
       "      <td>CREATE TABLE [Regions](\\n   [RegionID]INTEGER ...</td>\n",
       "    </tr>\n",
       "    <tr>\n",
       "      <th>11</th>\n",
       "      <td>table</td>\n",
       "      <td>Shippers</td>\n",
       "      <td>Shippers</td>\n",
       "      <td>133</td>\n",
       "      <td>CREATE TABLE [Shippers](\\n   [ShipperID]INTEGE...</td>\n",
       "    </tr>\n",
       "    <tr>\n",
       "      <th>12</th>\n",
       "      <td>table</td>\n",
       "      <td>Suppliers</td>\n",
       "      <td>Suppliers</td>\n",
       "      <td>134</td>\n",
       "      <td>CREATE TABLE [Suppliers](\\n   [SupplierID]INTE...</td>\n",
       "    </tr>\n",
       "    <tr>\n",
       "      <th>13</th>\n",
       "      <td>table</td>\n",
       "      <td>Territories</td>\n",
       "      <td>Territories</td>\n",
       "      <td>135</td>\n",
       "      <td>CREATE TABLE [Territories](\\n   [TerritoryID]T...</td>\n",
       "    </tr>\n",
       "  </tbody>\n",
       "</table>\n",
       "</div>"
      ],
      "text/plain": [
       "     type                  name              tbl_name  rootpage  \\\n",
       "0   table            Categories            Categories         2   \n",
       "1   table       sqlite_sequence       sqlite_sequence         3   \n",
       "2   table  CustomerCustomerDemo  CustomerCustomerDemo        28   \n",
       "3   table  CustomerDemographics  CustomerDemographics        30   \n",
       "4   table             Customers             Customers        32   \n",
       "5   table             Employees             Employees        38   \n",
       "6   table   EmployeeTerritories   EmployeeTerritories        68   \n",
       "7   table         Order Details         Order Details        70   \n",
       "8   table                Orders                Orders        92   \n",
       "9   table              Products              Products       128   \n",
       "10  table               Regions               Regions       132   \n",
       "11  table              Shippers              Shippers       133   \n",
       "12  table             Suppliers             Suppliers       134   \n",
       "13  table           Territories           Territories       135   \n",
       "\n",
       "                                                  sql  \n",
       "0   CREATE TABLE [Categories]\\n(      [CategoryID]...  \n",
       "1              CREATE TABLE sqlite_sequence(name,seq)  \n",
       "2   CREATE TABLE [CustomerCustomerDemo](\\n   [Cust...  \n",
       "3   CREATE TABLE [CustomerDemographics](\\n   [Cust...  \n",
       "4   CREATE TABLE [Customers]\\n(      [CustomerID] ...  \n",
       "5   CREATE TABLE [Employees]\\n(      [EmployeeID] ...  \n",
       "6   CREATE TABLE [EmployeeTerritories](\\n   [Emplo...  \n",
       "7   CREATE TABLE [Order Details](\\n   [OrderID]INT...  \n",
       "8   CREATE TABLE [Orders](\\n   [OrderID]INTEGER NO...  \n",
       "9   CREATE TABLE [Products](\\n   [ProductID]INTEGE...  \n",
       "10  CREATE TABLE [Regions](\\n   [RegionID]INTEGER ...  \n",
       "11  CREATE TABLE [Shippers](\\n   [ShipperID]INTEGE...  \n",
       "12  CREATE TABLE [Suppliers](\\n   [SupplierID]INTE...  \n",
       "13  CREATE TABLE [Territories](\\n   [TerritoryID]T...  "
      ]
     },
     "execution_count": 3,
     "metadata": {},
     "output_type": "execute_result"
    }
   ],
   "source": [
    "pd.read_sql(\"SELECT * FROM sqlite_schema WHERE type = 'table';\", con)"
   ]
  },
  {
   "cell_type": "markdown",
   "id": "c6f1d215-9b97-45de-b1a7-4cb993236c0b",
   "metadata": {},
   "source": [
    "We are first going to create a large dataframe that will contains all of the variables that we are interested in using to assess employee sales. We will do this in a series of steps, ultimately sequentially merging three dataframes named df1, df2, and df3.\n",
    "\n",
    "We will first combine the employee details and the Territories from table `Employees` and `EmployeeTerritories`. We will only look at the sales representatives."
   ]
  },
  {
   "cell_type": "code",
   "execution_count": 6,
   "id": "d1c0f03b-9956-452c-92ee-27f0a6b10fe6",
   "metadata": {},
   "outputs": [],
   "source": [
    "#This dataframe is Employee ID, name, region and territory\n",
    "df1 = pd.merge(left = pd.read_sql(\"SELECT  EmployeeID, Title, LastName, FirstName, Region FROM Employees WHERE Title = 'Sales Representative';\", con),\n",
    "        right = pd.read_sql(\"SELECT  EmployeeID, TerritoryID FROM EmployeeTerritories;\", con),\n",
    "        how = \"inner\",\n",
    "        on = \"EmployeeID\")\n",
    "#df1.head()"
   ]
  },
  {
   "cell_type": "code",
   "execution_count": 7,
   "id": "c1e6c56c-350c-4454-8b74-ea0a1d38f3cc",
   "metadata": {},
   "outputs": [],
   "source": [
    "#df2 adds orderID, CustomerID EmployeeID and OrderDate\n",
    "df2 = pd.merge(left = df1,\n",
    "              right = pd.read_sql(\"SELECT OrderID, CustomerID, EmployeeID, OrderDate FROM Orders\", con),\n",
    "              how = \"inner\",\n",
    "              on = \"EmployeeID\")\n",
    "#df2.head(10)"
   ]
  },
  {
   "cell_type": "code",
   "execution_count": 8,
   "id": "403df89d-1a84-4f97-b4fa-21e803cfd2ee",
   "metadata": {},
   "outputs": [],
   "source": [
    "#df3 adds all the columns from the table 'Order Details'\n",
    "df3 = pd.merge(left = df2,\n",
    "               right = pd.read_sql(\"SELECT * FROM 'Order Details'\", con),\n",
    "               how = \"inner\",\n",
    "               on = \"OrderID\")\n",
    "# chage the date to year\n",
    "df3['OrderYear'] = [x[:4] for x in df3.OrderDate]\n",
    "df3 = df3.drop('OrderDate', axis = 1)\n",
    "#df3.head(10)"
   ]
  },
  {
   "cell_type": "code",
   "execution_count": null,
   "id": "9723a470-64a9-43e3-80d6-3f5a9d588611",
   "metadata": {},
   "outputs": [],
   "source": [
    "# calculate the amount for one product within one order\n",
    "df3['Total'] = df3['UnitPrice']*df3['Quantity']*(1-df3['Discount'])\n",
    "#df3.head(10)"
   ]
  },
  {
   "cell_type": "markdown",
   "id": "31d818c5-62bc-4d70-9009-bde06cd25373",
   "metadata": {},
   "source": [
    "# Part 3\n",
    "For part 3, we’re going to redo some of the homework 6 NFL data analysis via spark. (This part should be very easy/short! We’ll use spark SQL and/or pandas-on-spark functionality rather than writing our own MapReduce type code.) \n",
    "\n",
    "To do:\n",
    "• Read in the full nfl data set into spark as a spark data frame\n",
    "• Use spark SQL to find the mean and standard deviation for the AQ1, AQ2, AQ3, AQ4, AQFinal, HQ1, HQ2, HQ3, HQ4, and HFinal variables\n",
    "• Find the mean and standardeviation for those same columns but do so for each value of the season variable\n",
    "\n",
    "Now, repeat the three steps above but use pandas-on-spark rather than spark SQL! As always, you should have a basic narrative flowing through what you are doing and an interpretation of any stats/graphs created."
   ]
  },
  {
   "cell_type": "code",
   "execution_count": null,
   "id": "9e0fb9ab-b5e6-4780-bc9c-f7d5d5e8fcd5",
   "metadata": {},
   "outputs": [],
   "source": []
  }
 ],
 "metadata": {
  "kernelspec": {
   "display_name": "Python 3 (ipykernel)",
   "language": "python",
   "name": "python3"
  },
  "language_info": {
   "codemirror_mode": {
    "name": "ipython",
    "version": 3
   },
   "file_extension": ".py",
   "mimetype": "text/x-python",
   "name": "python",
   "nbconvert_exporter": "python",
   "pygments_lexer": "ipython3",
   "version": "3.10.8"
  }
 },
 "nbformat": 4,
 "nbformat_minor": 5
}
