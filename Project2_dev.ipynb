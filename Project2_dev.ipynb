{
 "cells": [
  {
   "cell_type": "markdown",
   "id": "9e35f151-aa44-413a-927d-cf336fc944f0",
   "metadata": {},
   "source": [
    "# Part 2\n",
    "On the assignment link you’ll find an sqlite database called northwind.sqlite. This database originally comes from https://github.com/jpwhite3/northwind-SQLite3 but has been modified. Imaging that you have been hired by this firm to help them summarize and understand how good their employees are in terms of their sales. You’ll write up a report for the company (so they are your audience when writing). Your report will be in the form of an .html notebook."
   ]
  },
  {
   "cell_type": "markdown",
   "id": "87836a97-6b13-4178-a94e-6fb6af618bd4",
   "metadata": {},
   "source": [
    "You should drill down into things like how they’ve done across years, how they do in different regions, etc. Please make sure there is a narrative throughout the report. The actual way you quantify how the employees are doing is up to you to determine (not every group will investigate the same things). Please note that the employees have different roles so not everyone is entirely focused on sales. You’ll want to study the database tables a bit to get an idea about the things you could investigate:"
   ]
  },
  {
   "cell_type": "markdown",
   "id": "db27191d-03ff-4344-b508-32f0a57c4b40",
   "metadata": {},
   "source": [
    "You should provide summary statistics and graphs with corresponding interpretations for the company - no need to do any modeling, just focus on summarizing employee performance in meaningful ways. You’ll need to combine data. You can do the joins, summaries, etc. through pandas or via SQL. There are a couple of tables that are empty, just ignore those. Make sure your report has clear sections for the company representatives to read!"
   ]
  },
  {
   "cell_type": "markdown",
   "id": "31d818c5-62bc-4d70-9009-bde06cd25373",
   "metadata": {},
   "source": [
    "# Part 3\n",
    "For part 3, we’re going to redo some of the homework 6 NFL data analysis via spark. (This part should be very easy/short! We’ll use spark SQL and/or pandas-on-spark functionality rather than writing our own MapReduce type code.) \n",
    "\n",
    "To do:\n",
    "• Read in the full nfl data set into spark as a spark data frame\n",
    "• Use spark SQL to find the mean and standard deviation for the AQ1, AQ2, AQ3, AQ4, AQFinal, HQ1, HQ2, HQ3, HQ4, and HFinal variables\n",
    "• Find the mean and standardeviation for those same columns but do so for each value of the season variable\n",
    "\n",
    "Now, repeat the three steps above but use pandas-on-spark rather than spark SQL! As always, you should have a basic narrative flowing through what you are doing and an interpretation of any stats/graphs created."
   ]
  },
  {
   "cell_type": "code",
   "execution_count": null,
   "id": "9e0fb9ab-b5e6-4780-bc9c-f7d5d5e8fcd5",
   "metadata": {},
   "outputs": [],
   "source": []
  }
 ],
 "metadata": {
  "kernelspec": {
   "display_name": "Python 3 (ipykernel)",
   "language": "python",
   "name": "python3"
  },
  "language_info": {
   "codemirror_mode": {
    "name": "ipython",
    "version": 3
   },
   "file_extension": ".py",
   "mimetype": "text/x-python",
   "name": "python",
   "nbconvert_exporter": "python",
   "pygments_lexer": "ipython3",
   "version": "3.10.8"
  }
 },
 "nbformat": 4,
 "nbformat_minor": 5
}
