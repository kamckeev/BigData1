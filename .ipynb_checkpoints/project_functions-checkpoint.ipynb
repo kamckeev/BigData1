{
 "cells": [
  {
   "cell_type": "markdown",
   "id": "163e0ca0-7e81-4963-af39-ad60325f3eb4",
   "metadata": {},
   "source": [
    "# Function Fun!\n",
    "writing functions for the BigData project to read in and interpret data from the US census"
   ]
  },
  {
   "cell_type": "code",
   "execution_count": 1,
   "id": "db2b6919-27ac-4b58-9cba-3ef5f8829b61",
   "metadata": {},
   "outputs": [],
   "source": [
    "#Libraries\n",
    "import pandas as pd\n",
    "import numpy as np\n",
    "import matplotlib.pyplot as plt"
   ]
  },
  {
   "cell_type": "code",
   "execution_count": 2,
   "id": "d2fb8d2b-5b8b-45f3-b500-4c1465bb3ce4",
   "metadata": {},
   "outputs": [],
   "source": [
    "#data to import\n",
    "import_data1 = pd.read_csv(\"https://www4.stat.ncsu.edu/~online/datasets/EDU01a.csv\")\n",
    "import_data2 = pd.read_csv(\"https://www4.stat.ncsu.edu/~online/datasets/EDU01b.csv\")"
   ]
  },
  {
   "cell_type": "code",
   "execution_count": 3,
   "id": "16d4a3cf-26ff-4b89-9fff-bbde40188b92",
   "metadata": {},
   "outputs": [],
   "source": [
    "def func_1(dataframe, col_name = \"enrollment\"):\n",
    "    # Change the column name\n",
    "    census_df = dataframe.rename(columns = {\"Area_name\":\"area_name\"}, inplace = True)\n",
    "    # Create a list of the column names and an empty list to grab all of the columns ending in \"D\"\n",
    "    cols=list(dataframe)\n",
    "    col_names=[]\n",
    "    # We will use a for loop to iterate through the columns and grab the column names ending in \"D\" into a list\n",
    "    for x in cols:\n",
    "        if x.endswith(\"D\"):\n",
    "            col_names.append(x)\n",
    "        else:\n",
    "            continue\n",
    "    # We can subset our original dataframe to grab the columns we want with the list \"col_list\"\n",
    "    col_list=['area_name', 'STCOU', *col_names]\n",
    "    census_df=dataframe.loc[:,col_list]\n",
    "    # Convert the dataframe to long format using pd.melt()\n",
    "    census_df = census_df.melt(id_vars = [\"area_name\", \"STCOU\"], var_name = \"info\", value_name = col_name)\n",
    "    \n",
    "    return(census_df)"
   ]
  },
  {
   "cell_type": "code",
   "execution_count": 6,
   "id": "0d2b247a-3b07-4b97-b2af-3bab2e485c59",
   "metadata": {},
   "outputs": [],
   "source": [
    "census_df = func_1(import_data2)\n",
    "#census_df.head()"
   ]
  },
  {
   "cell_type": "code",
   "execution_count": 7,
   "id": "929c193e-6536-49c8-85c2-6ce4190858ee",
   "metadata": {},
   "outputs": [],
   "source": [
    "def func_2(dataframe):             \n",
    "    census_df[\"year\"] = np.nan\n",
    "    census_df[\"measurement\"] = np.nan\n",
    "    for row in range(len(census_df)):\n",
    "        thing = census_df.loc[row, \"info\"]\n",
    "        measure = thing[0:7]\n",
    "        if int(thing[7:9])>=97:\n",
    "            yr = \"19\" + str(thing[7:9])\n",
    "        else:\n",
    "            yr= '20'+ str(thing[7:9])\n",
    "        census_df.loc[row,\"year\"] = int(yr)\n",
    "        census_df.loc[row,\"measurement\"] = str(measure)\n",
    "    return(census_df)"
   ]
  },
  {
   "cell_type": "code",
   "execution_count": 8,
   "id": "3b533de9-a70a-4930-8309-abe2baab14ad",
   "metadata": {},
   "outputs": [],
   "source": [
    "census_df=func_2(census_df)"
   ]
  },
  {
   "cell_type": "code",
   "execution_count": 13,
   "id": "0391d786-2b5e-4ed9-95e0-19786130da99",
   "metadata": {},
   "outputs": [],
   "source": [
    "def func_3(dataframe):\n",
    "    dataframe.loc[\"State\"] = dataframe.loc[:,\"area_name\"].apply(lambda x: x[-2:])\n",
    "    return(dataframe)\n",
    "\n",
    "#func_3(county_df)"
   ]
  },
  {
   "cell_type": "code",
   "execution_count": 14,
   "id": "28b68e92-fd7e-44d1-b31c-b6aa28b41295",
   "metadata": {},
   "outputs": [],
   "source": [
    "def func_4(dataframe):\n",
    "    \n",
    "    def return_div(val):\n",
    "        div1 = [\"CONNECTICUT\", 'MAINE','MASSACHUSETTS','NEW HAMPSHIRE','RHODE ISLAND','VERMONT']\n",
    "        div2 = [\"NEW JERSEY\",'NEW YORK','PENNSYLVANIA']\n",
    "        div3 = ['ILLINOIS','INDIANA','MICHIGAN','OHIO','WISCONSIN']\n",
    "        div4 = ['IOWA','KANSAS','MINNESOTA','MISSOURI','NEBRASKA','NORTH DAKOTA','SOUTH DAKOTA']\n",
    "        div5 = ['DELAWARE','FLORIDA','GEORGIA','MARYLAND','NORTH CAROLINA','SOUTH CAROLINA','VIRGINIA','DISTRICT OF COLUMBIA','WEST VIRGINIA']\n",
    "        div6 = ['ALABAMA','KENTUCKY','MISSISSIPPI','TENNESSEE']\n",
    "        div7 = ['ARKANSAS','LOUISIANA','OKLAHOMA','TEXAS']\n",
    "        div8 = ['ARIZONA','COLORADO','IDAHO','NEVADA','MONTANA','NEW MEXICO','UTAH','WYOMING']\n",
    "        div9 = ['ALASKA','CALIFORNIA','HAWAII','OREGON','WASHINGTON']\n",
    "        val = val.upper()\n",
    "    \n",
    "        if val in div1:\n",
    "            return(\"Division 1\")\n",
    "        elif val in div2:\n",
    "            return(\"Division 2\")\n",
    "        elif val in div3:\n",
    "            return(\"Division 3\")\n",
    "        elif val in div4:\n",
    "            return(\"Division 4\")\n",
    "        elif val in div5:\n",
    "            return(\"Division 5\")\n",
    "        elif val in div6:\n",
    "            return(\"Division 6\")\n",
    "        elif val in div7:\n",
    "            return(\"Division 7\")\n",
    "        elif val in div8:\n",
    "            return(\"Division 8\")\n",
    "        elif val in div9:\n",
    "            return(\"Division 9\")\n",
    "        else:\n",
    "            return(\"ERROR\")\n",
    "        \n",
    "    dataframe[\"division\"] = np.vectorize(return_div)(dataframe[\"area_name\"])\n",
    "    return(dataframe)"
   ]
  },
  {
   "cell_type": "code",
   "execution_count": 11,
   "id": "f1640ca9-22e2-4515-bd9e-9a4f9596b3c9",
   "metadata": {},
   "outputs": [],
   "source": [
    "def func_5(dataframe):\n",
    "    dataframe[\"is_county\"] = dataframe[\"area_name\"].apply(lambda x: x[-4] == \",\")\n",
    "    county_df = dataframe.loc[dataframe[\"is_county\"]]\n",
    "    state_df = dataframe.loc[np.logical_not(dataframe[\"is_county\"])]\n",
    "    \n",
    "    county_df = func_3(county_df)\n",
    "    state_df = func_4(state_df)\n",
    "    return(county_df, state_df)"
   ]
  },
  {
   "cell_type": "code",
   "execution_count": 12,
   "id": "70289606-fcac-4e5d-a32f-2b04880ec1eb",
   "metadata": {},
   "outputs": [
    {
     "ename": "NameError",
     "evalue": "name 'func3' is not defined",
     "output_type": "error",
     "traceback": [
      "\u001b[0;31m---------------------------------------------------------------------------\u001b[0m",
      "\u001b[0;31mNameError\u001b[0m                                 Traceback (most recent call last)",
      "Cell \u001b[0;32mIn[12], line 1\u001b[0m\n\u001b[0;32m----> 1\u001b[0m county_df, state_df \u001b[38;5;241m=\u001b[39m \u001b[43mfunc5\u001b[49m\u001b[43m(\u001b[49m\u001b[43mcensus_df\u001b[49m\u001b[43m)\u001b[49m\n",
      "Cell \u001b[0;32mIn[11], line 6\u001b[0m, in \u001b[0;36mfunc5\u001b[0;34m(dataframe)\u001b[0m\n\u001b[1;32m      3\u001b[0m county_df \u001b[38;5;241m=\u001b[39m dataframe\u001b[38;5;241m.\u001b[39mloc[dataframe[\u001b[38;5;124m\"\u001b[39m\u001b[38;5;124mis_county\u001b[39m\u001b[38;5;124m\"\u001b[39m]]\n\u001b[1;32m      4\u001b[0m state_df \u001b[38;5;241m=\u001b[39m dataframe\u001b[38;5;241m.\u001b[39mloc[np\u001b[38;5;241m.\u001b[39mlogical_not(dataframe[\u001b[38;5;124m\"\u001b[39m\u001b[38;5;124mis_county\u001b[39m\u001b[38;5;124m\"\u001b[39m])]\n\u001b[0;32m----> 6\u001b[0m county_df \u001b[38;5;241m=\u001b[39m \u001b[43mfunc3\u001b[49m(county_df)\n\u001b[1;32m      7\u001b[0m state_df \u001b[38;5;241m=\u001b[39m func4(state_df)\n\u001b[1;32m      8\u001b[0m \u001b[38;5;28;01mreturn\u001b[39;00m(county_df, state_df)\n",
      "\u001b[0;31mNameError\u001b[0m: name 'func3' is not defined"
     ]
    }
   ],
   "source": [
    "county_df, state_df = func5(census_df)"
   ]
  },
  {
   "cell_type": "code",
   "execution_count": null,
   "id": "f3ed28eb-bfa7-4edb-b908-5b5f055c6acc",
   "metadata": {},
   "outputs": [],
   "source": []
  }
 ],
 "metadata": {
  "kernelspec": {
   "display_name": "Python 3 (ipykernel)",
   "language": "python",
   "name": "python3"
  },
  "language_info": {
   "codemirror_mode": {
    "name": "ipython",
    "version": 3
   },
   "file_extension": ".py",
   "mimetype": "text/x-python",
   "name": "python",
   "nbconvert_exporter": "python",
   "pygments_lexer": "ipython3",
   "version": "3.10.8"
  }
 },
 "nbformat": 4,
 "nbformat_minor": 5
}
